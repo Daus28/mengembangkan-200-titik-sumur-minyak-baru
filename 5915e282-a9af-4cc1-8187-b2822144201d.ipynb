{
 "cells": [
  {
   "cell_type": "markdown",
   "metadata": {},
   "source": [
    "Prosedur yang akan saya lakukan untuk menyelesaikan proyek ini yaitu:\n",
    "\n",
    "- Persiapan Data:\n",
    "\n",
    "Mengunduh dataset dari tautan yang diberikan.\n",
    "Melakukan pembersihan data jika diperlukan, seperti menangani nilai yang hilang atau tidak valid.\n",
    "Melakukan pengecekan statistik deskriptif untuk memahami distribusi data.\n",
    "\n",
    "- Pelatihan dan Evaluasi Model:\n",
    "\n",
    "Membagi data menjadi training set dan validation set dengan rasio 75:25.\n",
    "Melatih model regresi linear untuk setiap wilayah menggunakan training set.\n",
    "Membuat prediksi untuk validation set dan menyimpan hasilnya.\n",
    "Menghitung rata-rata volume pemesanan dan Root Mean Squared Error (RMSE) dari model untuk setiap wilayah.\n",
    "Menganalisis hasilnya untuk memilih wilayah terbaik.\n",
    "\n",
    "- Perhitungan Laba:\n",
    "\n",
    "Simpan nilai yang dibutuhkan untuk perhitungan laba.\n",
    "Membandingkan rata-rata volume pemesanan dengan target volume untuk menghindari kerugian.\n",
    "Memberikan kesimpulan tentang persiapan yang dilakukan dalam langkah perhitungan laba.\n",
    "\n",
    "- Fungsi Perhitungan Laba:\n",
    "\n",
    "Membuat fungsi untuk menghitung keuntungan dari 200 sumur terpilih.\n",
    "Simpan prediksi untuk 200 sumur di setiap wilayah.\n",
    "Memberikan kesimpulan tentang wilayah yang cocok untuk pengembangan sumur minyak berdasarkan keuntungan yang dihitung.\n",
    "\n",
    "- Risiko dan Keuntungan:\n",
    "\n",
    "Menggunakan teknik bootstrapping dengan 1.000 sampel untuk menemukan distribusi profit.\n",
    "Menghitung rata-rata profit, interval kepercayaan 95%, dan risiko kerugian.\n",
    "Memberikan kesimpulan tentang wilayah yang cocok untuk pengembangan sumur minyak berdasarkan analisis risiko dan keuntungan.\n",
    "\n",
    "Langkah-langkah ini akan membantu saya dalam mempersiapkan, melatih, dan menganalisis model untuk memilih wilayah terbaik untuk mengembangkan sumur minyak baru dengan mempertimbangkan keuntungan dan risiko.\n",
    "\n",
    "\n",
    "\n",
    "\n",
    "\n",
    "\n"
   ]
  },
  {
   "cell_type": "code",
   "execution_count": 1,
   "metadata": {},
   "outputs": [],
   "source": [
    "import numpy as np\n",
    "import pandas as pd\n",
    "from sklearn.model_selection import train_test_split\n",
    "from sklearn.linear_model import LinearRegression\n",
    "from sklearn.metrics import mean_squared_error\n",
    "import seaborn as sns\n",
    "import matplotlib.pyplot as plt"
   ]
  },
  {
   "cell_type": "code",
   "execution_count": 2,
   "metadata": {
    "scrolled": true
   },
   "outputs": [
    {
     "name": "stdout",
     "output_type": "stream",
     "text": [
      "<class 'pandas.core.frame.DataFrame'>\n",
      "RangeIndex: 100000 entries, 0 to 99999\n",
      "Data columns (total 5 columns):\n",
      " #   Column   Non-Null Count   Dtype  \n",
      "---  ------   --------------   -----  \n",
      " 0   id       100000 non-null  object \n",
      " 1   f0       100000 non-null  float64\n",
      " 2   f1       100000 non-null  float64\n",
      " 3   f2       100000 non-null  float64\n",
      " 4   product  100000 non-null  float64\n",
      "dtypes: float64(4), object(1)\n",
      "memory usage: 3.8+ MB\n",
      "None\n",
      "          id        f0        f1        f2     product\n",
      "84359  AKyCQ -0.057470  0.292567  6.864681  129.260555\n",
      "95841  zN7x4  0.547547 -0.275073  3.076626  100.343969\n",
      "15692  cJndF -0.777675  0.357170  1.725882    9.456085\n",
      "56144  xjBIZ  1.824029  0.058676  2.378386  129.959176\n",
      "59920  JThAr -0.493893  0.987818  7.885112   86.463372\n",
      "                  f0             f1             f2        product\n",
      "count  100000.000000  100000.000000  100000.000000  100000.000000\n",
      "mean        0.500419       0.250143       2.502647      92.500000\n",
      "std         0.871832       0.504433       3.248248      44.288691\n",
      "min        -1.408605      -0.848218     -12.088328       0.000000\n",
      "25%        -0.072580      -0.200881       0.287748      56.497507\n",
      "50%         0.502360       0.250252       2.515969      91.849972\n",
      "75%         1.073581       0.700646       4.715088     128.564089\n",
      "max         2.362331       1.343769      16.003790     185.364347\n"
     ]
    }
   ],
   "source": [
    "# Memuat dataset geo_data_0.csv\n",
    "geo_data_0 = pd.read_csv('/datasets/geo_data_0.csv')\n",
    "\n",
    "# Eksplorasi Data\n",
    "# Melihat informasi umum tentang dataset\n",
    "print(geo_data_0.info())\n",
    "\n",
    "# Melihat sample data\n",
    "print(geo_data_0.sample(5))\n",
    "\n",
    "# Statistik deskriptif\n",
    "print(geo_data_0.describe())"
   ]
  },
  {
   "cell_type": "markdown",
   "metadata": {},
   "source": [
    "Hasil tersebut memberikan informasi tentang dataset geo_data_0.csv:\n",
    "\n",
    "- Informasi Umum Dataset:\n",
    "\n",
    "Dataset ini memiliki 100.000 baris dan 5 kolom.\n",
    "Tidak ada nilai yang hilang (non-null count untuk setiap kolom adalah 100.000).\n",
    "Tipe data dari kolom id adalah object, sedangkan tipe data dari kolom f0, f1, f2, dan product adalah float64.\n",
    "Memory usage dataset ini adalah sekitar 3.8+ MB.\n",
    "\n",
    "- Sample Data:\n",
    "\n",
    "Ditampilkan lima baris acak dari dataset, yang menunjukkan struktur data yang dimiliki.\n",
    "\n",
    "- Statistik Deskriptif:\n",
    "\n",
    "Statistik deskriptif seperti rata-rata, standar deviasi, nilai minimum, kuartil, dan nilai maksimum dari setiap kolom numerik ditampilkan.\n",
    "Kolom 'product' memiliki rata-rata sekitar 92.5 dan standar deviasi sekitar 44.29, dengan nilai minimum 0 dan maksimum 185.36.\n",
    "Kolom 'f0', 'f1', dan 'f2' juga memiliki statistik deskriptif yang ditampilkan. Misalnya, rata-rata untuk 'f0' adalah sekitar 0.500, 'f1' sekitar 0.250, dan 'f2' sekitar 2.503.\n",
    "\n",
    "Informasi ini memberikan gambaran awal tentang struktur dan distribusi data dalam dataset geo_data_0.csv.\n",
    "\n",
    "\n",
    "\n",
    "\n",
    "\n",
    "\n"
   ]
  },
  {
   "cell_type": "code",
   "execution_count": 3,
   "metadata": {
    "scrolled": true
   },
   "outputs": [
    {
     "name": "stdout",
     "output_type": "stream",
     "text": [
      "<class 'pandas.core.frame.DataFrame'>\n",
      "RangeIndex: 100000 entries, 0 to 99999\n",
      "Data columns (total 5 columns):\n",
      " #   Column   Non-Null Count   Dtype  \n",
      "---  ------   --------------   -----  \n",
      " 0   id       100000 non-null  object \n",
      " 1   f0       100000 non-null  float64\n",
      " 2   f1       100000 non-null  float64\n",
      " 3   f2       100000 non-null  float64\n",
      " 4   product  100000 non-null  float64\n",
      "dtypes: float64(4), object(1)\n",
      "memory usage: 3.8+ MB\n",
      "None\n",
      "          id         f0        f1        f2     product\n",
      "23666  RAO2T  -5.125802 -5.121863 -0.003303    3.179103\n",
      "49940  Inix7  -3.733356 -3.836883  1.995977   57.085625\n",
      "3770   WMSQO  -3.940061  2.434423  4.994574  137.945408\n",
      "91389  YqF6Z -12.589518 -0.419388  0.994012   30.132364\n",
      "51347  CXRO5   9.195325 -4.569706  2.011481   53.906522\n",
      "                  f0             f1             f2        product\n",
      "count  100000.000000  100000.000000  100000.000000  100000.000000\n",
      "mean        1.141296      -4.796579       2.494541      68.825000\n",
      "std         8.965932       5.119872       1.703572      45.944423\n",
      "min       -31.609576     -26.358598      -0.018144       0.000000\n",
      "25%        -6.298551      -8.267985       1.000021      26.953261\n",
      "50%         1.153055      -4.813172       2.011479      57.085625\n",
      "75%         8.621015      -1.332816       3.999904     107.813044\n",
      "max        29.421755      18.734063       5.019721     137.945408\n"
     ]
    }
   ],
   "source": [
    "# Memuat dataset geo_data_1.csv\n",
    "geo_data_1 = pd.read_csv('/datasets/geo_data_1.csv')\n",
    "\n",
    "# Eksplorasi Data\n",
    "# Melihat informasi umum tentang dataset\n",
    "print(geo_data_1.info())\n",
    "\n",
    "# Melihat sample data\n",
    "print(geo_data_1.sample(5))\n",
    "\n",
    "# Statistik deskriptif\n",
    "print(geo_data_1.describe())"
   ]
  },
  {
   "cell_type": "markdown",
   "metadata": {},
   "source": [
    "\n",
    "Hasil tersebut memberikan informasi tentang dataset geo_data_1.csv:\n",
    "\n",
    "- Informasi Umum Dataset:\n",
    "\n",
    "Dataset ini juga memiliki 100.000 baris dan 5 kolom, sama dengan geo_data_0.csv.\n",
    "Tidak ada nilai yang hilang (non-null count untuk setiap kolom adalah 100.000).\n",
    "Tipe data dari kolom id adalah object, sedangkan tipe data dari kolom f0, f1, f2, dan product adalah float64.\n",
    "Memory usage dataset ini juga adalah sekitar 3.8+ MB, sama dengan geo_data_0.csv.\n",
    "\n",
    "- Sample Data:\n",
    "\n",
    "Ditampilkan lima baris acak dari dataset, yang memberikan gambaran tentang struktur data yang dimiliki.\n",
    "\n",
    "- Statistik Deskriptif:\n",
    "\n",
    "Statistik deskriptif seperti rata-rata, standar deviasi, nilai minimum, kuartil, dan nilai maksimum dari setiap kolom numerik ditampilkan.\n",
    "Kolom 'product' memiliki rata-rata sekitar 68.83 dan standar deviasi sekitar 45.94, dengan nilai minimum 0 dan maksimum 137.95.\n",
    "Kolom 'f0', 'f1', dan 'f2' juga memiliki statistik deskriptif yang ditampilkan. Misalnya, rata-rata untuk 'f0' adalah sekitar 1.14, 'f1' adalah sekitar -4.80, dan 'f2' adalah sekitar 2.49.\n",
    "\n",
    "Informasi ini memberikan gambaran awal tentang struktur dan distribusi data dalam dataset geo_data_1.csv, yang mirip dengan geo_data_0.csv."
   ]
  },
  {
   "cell_type": "code",
   "execution_count": 4,
   "metadata": {},
   "outputs": [
    {
     "name": "stdout",
     "output_type": "stream",
     "text": [
      "<class 'pandas.core.frame.DataFrame'>\n",
      "RangeIndex: 100000 entries, 0 to 99999\n",
      "Data columns (total 5 columns):\n",
      " #   Column   Non-Null Count   Dtype  \n",
      "---  ------   --------------   -----  \n",
      " 0   id       100000 non-null  object \n",
      " 1   f0       100000 non-null  float64\n",
      " 2   f1       100000 non-null  float64\n",
      " 3   f2       100000 non-null  float64\n",
      " 4   product  100000 non-null  float64\n",
      "dtypes: float64(4), object(1)\n",
      "memory usage: 3.8+ MB\n",
      "None\n",
      "          id        f0        f1        f2     product\n",
      "53474  1k18o  0.343663 -0.081959  5.360197  146.655892\n",
      "83255  aZkhb -0.871845  0.464063  3.916263  130.504636\n",
      "18208  YBJdN -1.265130  3.018684  4.429033   98.596590\n",
      "30074  ZPPUp -3.253399 -2.218321 -3.622253   53.114992\n",
      "72769  CKXug -0.726212  0.433624  1.571383    8.182555\n",
      "                  f0             f1             f2        product\n",
      "count  100000.000000  100000.000000  100000.000000  100000.000000\n",
      "mean        0.002023      -0.002081       2.495128      95.000000\n",
      "std         1.732045       1.730417       3.473445      44.749921\n",
      "min        -8.760004      -7.084020     -11.970335       0.000000\n",
      "25%        -1.162288      -1.174820       0.130359      59.450441\n",
      "50%         0.009424      -0.009482       2.484236      94.925613\n",
      "75%         1.158535       1.163678       4.858794     130.595027\n",
      "max         7.238262       7.844801      16.739402     190.029838\n"
     ]
    }
   ],
   "source": [
    "# Memuat dataset geo_data_2.csv\n",
    "geo_data_2 = pd.read_csv('/datasets/geo_data_2.csv')\n",
    "\n",
    "# Eksplorasi Data\n",
    "# Melihat informasi umum tentang dataset\n",
    "print(geo_data_2.info())\n",
    "\n",
    "# Melihat sample data\n",
    "print(geo_data_2.sample(5))\n",
    "\n",
    "# Statistik deskriptif\n",
    "print(geo_data_2.describe())"
   ]
  },
  {
   "cell_type": "markdown",
   "metadata": {},
   "source": [
    "Hasil tersebut memberikan informasi tentang dataset geo_data_2.csv:\n",
    "\n",
    "- Informasi Umum Dataset:\n",
    "\n",
    "Dataset ini juga memiliki 100.000 baris dan 5 kolom, seperti geo_data_0.csv dan geo_data_1.csv.\n",
    "Tidak ada nilai yang hilang (non-null count untuk setiap kolom adalah 100.000).\n",
    "Tipe data dari kolom id adalah object, sedangkan tipe data dari kolom f0, f1, f2, dan product adalah float64.\n",
    "Memory usage dataset ini juga adalah sekitar 3.8+ MB, sama dengan dua dataset sebelumnya.\n",
    "\n",
    "- Sample Data:\n",
    "\n",
    "Ditampilkan lima baris acak dari dataset, yang memberikan gambaran tentang struktur data yang dimiliki.\n",
    "\n",
    "- Statistik Deskriptif:\n",
    "\n",
    "Statistik deskriptif seperti rata-rata, standar deviasi, nilai minimum, kuartil, dan nilai maksimum dari setiap kolom numerik ditampilkan.\n",
    "Kolom 'product' memiliki rata-rata sekitar 95.00 dan standar deviasi sekitar 44.75, dengan nilai minimum 0 dan maksimum 190.03.\n",
    "Kolom 'f0', 'f1', dan 'f2' juga memiliki statistik deskriptif yang ditampilkan. Misalnya, rata-rata untuk 'f0' adalah sekitar 0.002, 'f1' adalah sekitar -0.002, dan 'f2' adalah sekitar 2.495.\n",
    "\n",
    "Informasi ini memberikan gambaran awal tentang struktur dan distribusi data dalam dataset geo_data_2.csv, yang serupa dengan dua dataset sebelumnya.\n",
    "\n",
    "\n",
    "\n",
    "\n",
    "\n",
    "\n"
   ]
  },
  {
   "cell_type": "code",
   "execution_count": 5,
   "metadata": {
    "scrolled": true
   },
   "outputs": [
    {
     "name": "stdout",
     "output_type": "stream",
     "text": [
      "Rata-rata Prediksi Volume Pemesanan: 92.3987999065777\n",
      "RMSE dari Model: 37.756600350261685\n"
     ]
    }
   ],
   "source": [
    "# Melatih dan menguji model untuk setiap wilayah di 'geo_data_0.csv':\n",
    "\n",
    "# Pisahkan fitur dan target\n",
    "X = geo_data_0[['f0', 'f1', 'f2']]\n",
    "y = geo_data_0['product']\n",
    "\n",
    "# Pisahkan data menjadi training set dan validation set\n",
    "X_train, X_val, y_train, y_val = train_test_split(X, y, test_size=0.25, random_state=42)\n",
    "\n",
    "# Inisialisasi model regresi linear\n",
    "model = LinearRegression()\n",
    "\n",
    "# Latih model menggunakan data training\n",
    "model.fit(X_train, y_train)\n",
    "\n",
    "# Buat prediksi untuk data validation\n",
    "predictions = model.predict(X_val)\n",
    "\n",
    "# Simpan prediksi dan jawaban yang benar untuk validation set\n",
    "results_df = pd.DataFrame({'Actual': y_val, 'Predicted': predictions})\n",
    "\n",
    "# Tampilkan prediksi volume rata-rata pemesanan\n",
    "print(\"Rata-rata Prediksi Volume Pemesanan:\", predictions.mean())\n",
    "\n",
    "# Hitung RMSE (Root Mean Squared Error)\n",
    "rmse = np.sqrt(mean_squared_error(y_val, predictions))\n",
    "print(\"RMSE dari Model:\", rmse)"
   ]
  },
  {
   "cell_type": "markdown",
   "metadata": {},
   "source": [
    "Hasil dari pelatihan dan pengujian model untuk wilayah di 'geo_data_0.csv' adalah sebagai berikut:\n",
    "\n",
    "- Rata-rata Prediksi Volume Pemesanan: 92.40 ribu barel (dibulatkan).\n",
    "\n",
    "Ini adalah nilai rata-rata dari prediksi volume pemesanan yang dihasilkan oleh model untuk data validasi.\n",
    "\n",
    "- RMSE (Root Mean Squared Error): 37.76 ribu barel.\n",
    "\n",
    "RMSE mengukur seberapa baik model kita cocok dengan data yang diamati. Nilai RMSE yang lebih rendah menunjukkan bahwa model memiliki kinerja yang lebih baik.\n",
    "Dalam konteks ini, RMSE yang cukup besar menunjukkan bahwa model mungkin tidak sesuai dengan data sebaik yang diharapkan.\n",
    "\n",
    "- Analisis:\n",
    "\n",
    "1. Rata-rata prediksi volume pemesanan cukup dekat dengan nilai sebenarnya dari data validasi, yang menunjukkan bahwa model mungkin cukup baik dalam melakukan prediksi secara keseluruhan.\n",
    "2. Namun, RMSE yang cukup tinggi (lebih dari 25% dari rata-rata nilai target) menunjukkan bahwa model mungkin tidak cukup akurat dalam memprediksi volume cadangan di sumur minyak baru.\n",
    "3. Kemungkinan terdapat faktor-faktor lain yang tidak dimasukkan ke dalam model dan memengaruhi hasil prediksi, atau model yang digunakan mungkin perlu penyesuaian lebih lanjut untuk meningkatkan kinerjanya.\n",
    "\n",
    "Dengan demikian, hasil tersebut memberikan wawasan awal tentang kinerja model untuk wilayah di 'geo_data_0.csv', namun perlu dilakukan analisis lebih lanjut dan penyesuaian model jika diperlukan untuk meningkatkan akurasinya.\n",
    "\n",
    "\n",
    "\n",
    "\n",
    "\n",
    "\n"
   ]
  },
  {
   "cell_type": "code",
   "execution_count": 6,
   "metadata": {},
   "outputs": [
    {
     "name": "stdout",
     "output_type": "stream",
     "text": [
      "Rata-rata Prediksi Volume Pemesanan: 68.71287803913762\n",
      "RMSE dari Model: 0.890280100102884\n"
     ]
    }
   ],
   "source": [
    "# Melatih dan menguji model untuk setiap wilayah di 'geo_data_1.csv':\n",
    "\n",
    "# Pisahkan fitur dan target\n",
    "X = geo_data_1[['f0', 'f1', 'f2']]\n",
    "y = geo_data_1['product']\n",
    "\n",
    "# Pisahkan data menjadi training set dan validation set\n",
    "X_train, X_val, y_train, y_val = train_test_split(X, y, test_size=0.25, random_state=42)\n",
    "\n",
    "# Inisialisasi model regresi linear\n",
    "model = LinearRegression()\n",
    "\n",
    "# Latih model menggunakan data training\n",
    "model.fit(X_train, y_train)\n",
    "\n",
    "# Buat prediksi untuk data validation\n",
    "predictions = model.predict(X_val)\n",
    "\n",
    "# Simpan prediksi dan jawaban yang benar untuk validation set\n",
    "results_df = pd.DataFrame({'Actual': y_val, 'Predicted': predictions})\n",
    "\n",
    "# Tampilkan prediksi volume rata-rata pemesanan\n",
    "print(\"Rata-rata Prediksi Volume Pemesanan:\", predictions.mean())\n",
    "\n",
    "# Hitung RMSE (Root Mean Squared Error)\n",
    "rmse = np.sqrt(mean_squared_error(y_val, predictions))\n",
    "print(\"RMSE dari Model:\", rmse)"
   ]
  },
  {
   "cell_type": "markdown",
   "metadata": {},
   "source": [
    "Hasil dari pelatihan dan pengujian model untuk wilayah di 'geo_data_1.csv' adalah sebagai berikut:\n",
    "\n",
    "- Rata-rata Prediksi Volume Pemesanan: 68.71 ribu barel (dibulatkan).\n",
    "\n",
    "Ini adalah nilai rata-rata dari prediksi volume pemesanan yang dihasilkan oleh model untuk data validasi.\n",
    "\n",
    "- RMSE (Root Mean Squared Error): 0.89 ribu barel.\n",
    "\n",
    "RMSE mengukur seberapa baik model kita cocok dengan data yang diamati. Nilai RMSE yang lebih rendah menunjukkan bahwa model memiliki kinerja yang lebih baik.\n",
    "Dalam konteks ini, RMSE yang sangat rendah menunjukkan bahwa model memiliki kinerja yang sangat baik dalam memprediksi volume cadangan di sumur minyak baru.\n",
    "\n",
    "- Analisis:\n",
    "\n",
    "1. Rata-rata prediksi volume pemesanan sangat dekat dengan nilai sebenarnya dari data validasi, yang menunjukkan bahwa model memiliki kinerja yang sangat baik dalam memprediksi volume cadangan.\n",
    "2. RMSE yang sangat rendah menunjukkan bahwa model memiliki akurasi yang tinggi dalam memprediksi volume cadangan di sumur minyak baru.\n",
    "3. Dengan demikian, model regresi linear tampaknya sangat cocok untuk dataset 'geo_data_1.csv' dan memberikan hasil yang sangat baik dalam memprediksi volume cadangan.\n",
    "\n",
    "Dengan demikian, hasil tersebut menunjukkan bahwa model telah berhasil dalam memprediksi volume cadangan di wilayah 'geo_data_1.csv' dengan akurasi yang tinggi. Ini adalah hasil yang sangat positif dan menunjukkan bahwa model dapat dipertimbangkan untuk digunakan dalam pengambilan keputusan terkait pengembangan sumur minyak di wilayah tersebut."
   ]
  },
  {
   "cell_type": "code",
   "execution_count": 7,
   "metadata": {},
   "outputs": [
    {
     "name": "stdout",
     "output_type": "stream",
     "text": [
      "Rata-rata Prediksi Volume Pemesanan: 94.77102387765939\n",
      "RMSE dari Model: 40.14587231134218\n"
     ]
    }
   ],
   "source": [
    "# Latih dan uji model untuk setiap wilayah di 'geo_data_2.csv':\n",
    "\n",
    "# Pisahkan fitur dan target\n",
    "X = geo_data_2[['f0', 'f1', 'f2']]\n",
    "y = geo_data_2['product']\n",
    "\n",
    "# Pisahkan data menjadi training set dan validation set\n",
    "X_train, X_val, y_train, y_val = train_test_split(X, y, test_size=0.25, random_state=42)\n",
    "\n",
    "# Inisialisasi model regresi linear\n",
    "model = LinearRegression()\n",
    "\n",
    "# Latih model menggunakan data training\n",
    "model.fit(X_train, y_train)\n",
    "\n",
    "# Buat prediksi untuk data validation\n",
    "predictions = model.predict(X_val)\n",
    "\n",
    "# Simpan prediksi dan jawaban yang benar untuk validation set\n",
    "results_df = pd.DataFrame({'Actual': y_val, 'Predicted': predictions})\n",
    "\n",
    "# Tampilkan prediksi volume rata-rata pemesanan\n",
    "print(\"Rata-rata Prediksi Volume Pemesanan:\", predictions.mean())\n",
    "\n",
    "# Hitung RMSE (Root Mean Squared Error)\n",
    "rmse = np.sqrt(mean_squared_error(y_val, predictions))\n",
    "print(\"RMSE dari Model:\", rmse)"
   ]
  },
  {
   "cell_type": "markdown",
   "metadata": {},
   "source": [
    "Hasil dari pelatihan dan pengujian model untuk wilayah di 'geo_data_2.csv' adalah sebagai berikut:\n",
    "\n",
    "- Rata-rata Prediksi Volume Pemesanan: 94.77 ribu barel (dibulatkan).\n",
    "\n",
    "Ini adalah nilai rata-rata dari prediksi volume pemesanan yang dihasilkan oleh model untuk data validasi.\n",
    "\n",
    "- RMSE (Root Mean Squared Error): 40.15 ribu barel.\n",
    "\n",
    "RMSE mengukur seberapa baik model kita cocok dengan data yang diamati. Nilai RMSE yang lebih rendah menunjukkan bahwa model memiliki kinerja yang lebih baik.\n",
    "Dalam konteks ini, RMSE yang cukup besar menunjukkan bahwa model mungkin tidak sesuai dengan data sebaik yang diharapkan.\n",
    "\n",
    "- Analisis:\n",
    "\n",
    "1. Rata-rata prediksi volume pemesanan cukup dekat dengan nilai sebenarnya dari data validasi, yang menunjukkan bahwa model mungkin cukup baik dalam melakukan prediksi secara keseluruhan.\n",
    "2. Namun, RMSE yang cukup tinggi (lebih dari 42% dari rata-rata nilai target) menunjukkan bahwa model mungkin tidak cukup akurat dalam memprediksi volume cadangan di sumur minyak baru.\n",
    "3. Kemungkinan terdapat faktor-faktor lain yang tidak dimasukkan ke dalam model dan memengaruhi hasil prediksi, atau model yang digunakan mungkin perlu penyesuaian lebih lanjut untuk meningkatkan kinerjanya.\n",
    "\n",
    "Dengan demikian, hasil tersebut memberikan wawasan awal tentang kinerja model untuk wilayah di 'geo_data_2.csv', namun perlu dilakukan analisis lebih lanjut dan penyesuaian model jika diperlukan untuk meningkatkan akurasinya.\n",
    "\n",
    "\n",
    "\n",
    "\n",
    "\n",
    "\n"
   ]
  },
  {
   "cell_type": "markdown",
   "metadata": {},
   "source": [
    "\n",
    "\n",
    "Untuk melakukan perhitungan laba, kita perlu menyimpan semua nilai yang diperlukan dalam variabel terpisah. Nilai-nilai tersebut termasuk:\n",
    "\n",
    "Investasi awal untuk pengembangan 200 sumur minyak, yaitu $ 100 juta.\n",
    "\n",
    "Jumlah sumur minyak yang akan dikembangkan, yaitu 200.\n",
    "\n",
    "Nilai minimal yang harus dihasilkan oleh setiap sumur minyak agar menghindari kerugian, yaitu $500 ribu atau setara dengan 111.1 unit.\n",
    "\n",
    "Pendapatan yang dihasilkan dari penjualan satu barel minyak mentah, yaitu $ 4.5.\n",
    "\n",
    "Total pendapatan yang diperoleh dari volume pemesanan yang diterima."
   ]
  },
  {
   "cell_type": "code",
   "execution_count": 8,
   "metadata": {},
   "outputs": [
    {
     "name": "stdout",
     "output_type": "stream",
     "text": [
      "Investasi Awal: 100 juta dollar\n",
      "Jumlah Sumur Minyak: 200\n",
      "Nilai Minimal per Sumur: 500 ribu dollar\n",
      "Pendapatan per Barel: 4.5 dollar\n",
      "Total Pendapatan dari Volume Pemesanan: 85293.92148989346 ribu dollar\n"
     ]
    }
   ],
   "source": [
    "# Investasi awal untuk pengembangan 200 sumur minyak (dalam juta dollar)\n",
    "investasi_awal = 100\n",
    "\n",
    "# Jumlah sumur minyak yang akan dikembangkan\n",
    "jumlah_sumur = 200\n",
    "\n",
    "# Nilai minimal yang harus dihasilkan oleh setiap sumur minyak untuk menghindari kerugian (dalam ribu dollar)\n",
    "nilai_minimal = 500\n",
    "\n",
    "# Pendapatan yang dihasilkan dari penjualan satu barel minyak mentah (dollar per barel)\n",
    "pendapatan_per_barel = 4.5\n",
    "\n",
    "# Total pendapatan yang diperoleh dari volume pemesanan yang diterima (dalam ribu dollar)\n",
    "total_pendapatan = predictions.mean() * pendapatan_per_barel * jumlah_sumur\n",
    "\n",
    "# Cetak nilai-nilai yang telah disimpan\n",
    "print(\"Investasi Awal:\", investasi_awal, \"juta dollar\")\n",
    "print(\"Jumlah Sumur Minyak:\", jumlah_sumur)\n",
    "print(\"Nilai Minimal per Sumur:\", nilai_minimal, \"ribu dollar\")\n",
    "print(\"Pendapatan per Barel:\", pendapatan_per_barel, \"dollar\")\n",
    "print(\"Total Pendapatan dari Volume Pemesanan:\", total_pendapatan, \"ribu dollar\")"
   ]
  },
  {
   "cell_type": "markdown",
   "metadata": {},
   "source": [
    "\n",
    "\n",
    "Investasi awal sebesar  100 juta dollar telah menghasilkan pendapatan sebesar 85,293.92 ribu dollar dari volume pemesanan yang diprediksi dari 200 sumur minyak. Namun, pendapatan ini perlu dibandingkan dengan investasi awal dan nilai minimal yang harus dihasilkan oleh setiap sumur minyak.\n",
    "\n",
    "Meskipun pendapatan tampak cukup tinggi, perlu diperhatikan apakah pendapatan ini sudah mencukupi untuk mengembalikan investasi awal dan memenuhi nilai minimal yang harus dihasilkan oleh setiap sumur minyak.\n",
    "\n",
    "Analisis lebih lanjut dan perbandingan dengan nilai-nilai lainnya diperlukan untuk menentukan apakah proyek ini menguntungkan secara finansial dan sesuai dengan tujuan bisnis perusahaan."
   ]
  },
  {
   "cell_type": "code",
   "execution_count": 9,
   "metadata": {},
   "outputs": [
    {
     "name": "stdout",
     "output_type": "stream",
     "text": [
      "Nilai Minimal per Sumur: 0.5 juta dollar\n",
      "Jumlah Rata-rata Pemesanan di Geo Data 0: 92.50000000000001 ribu barel\n",
      "Jumlah Rata-rata Pemesanan di Geo Data 1: 68.82500000000002 ribu barel\n",
      "Jumlah Rata-rata Pemesanan di Geo Data 2: 95.00000000000004 ribu barel\n"
     ]
    }
   ],
   "source": [
    "# Hitung nilai minimal yang harus dihasilkan oleh setiap sumur minyak untuk menghindari kerugian\n",
    "nilai_minimal_per_sumur = investasi_awal / jumlah_sumur  # dalam juta dollar\n",
    "\n",
    "# Bandingkan nilai minimal dengan jumlah rata-rata pemesanan di setiap wilayah\n",
    "print(\"Nilai Minimal per Sumur:\", nilai_minimal_per_sumur, \"juta dollar\")\n",
    "print(\"Jumlah Rata-rata Pemesanan di Geo Data 0:\", geo_data_0['product'].mean(), \"ribu barel\")\n",
    "print(\"Jumlah Rata-rata Pemesanan di Geo Data 1:\", geo_data_1['product'].mean(), \"ribu barel\")\n",
    "print(\"Jumlah Rata-rata Pemesanan di Geo Data 2:\", geo_data_2['product'].mean(), \"ribu barel\")"
   ]
  },
  {
   "cell_type": "markdown",
   "metadata": {},
   "source": [
    "Dari hasil yang telah dihitung:\n",
    "\n",
    "1. Nilai Minimal per Sumur: $0.5 juta dollar.\n",
    "\n",
    "- Ini adalah nilai minimal yang harus dihasilkan oleh setiap sumur minyak untuk menghindari kerugian, setara dengan $500 ribu dollar.\n",
    "\n",
    "2. Jumlah Rata-rata Pemesanan di Geo Data 0: 92.5 ribu barel.\n",
    "\n",
    "- Ini adalah jumlah rata-rata pemesanan di Geo Data 0.\n",
    "\n",
    "3. Jumlah Rata-rata Pemesanan di Geo Data 1: 68.825 ribu barel.\n",
    "\n",
    "- Ini adalah jumlah rata-rata pemesanan di Geo Data 1.\n",
    "\n",
    "4. Jumlah Rata-rata Pemesanan di Geo Data 2: 95.0 ribu barel.\n",
    "\n",
    "- Ini adalah jumlah rata-rata pemesanan di Geo Data 2.\n",
    "\n",
    "Kesimpulan:\n",
    "\n",
    "Nilai minimal per sumur untuk menghindari kerugian adalah $0.5 juta dollar, sedangkan rata-rata pemesanan di setiap wilayah adalah 92.5 ribu barel untuk Geo Data 0, 68.825 ribu barel untuk Geo Data 1, dan 95.0 ribu barel untuk Geo Data 2.\n",
    "\n",
    "Dari perbandingan ini, kita dapat melihat bahwa rata-rata pemesanan di Geo Data 0 dan Geo Data 2 lebih tinggi daripada nilai minimal per sumur, sedangkan rata-rata pemesanan di Geo Data 1 lebih rendah. Oleh karena itu, Geo Data 0 dan Geo Data 2 mungkin lebih menguntungkan dari segi pendapatan potensial per sumur dibandingkan dengan Geo Data 1.\n",
    "\n",
    "Analisis lebih lanjut dan perhitungan lebih detail diperlukan untuk menentukan wilayah mana yang paling cocok untuk pengembangan sumur minyak, mempertimbangkan aspek finansial dan risiko."
   ]
  },
  {
   "cell_type": "code",
   "execution_count": 10,
   "metadata": {},
   "outputs": [
    {
     "name": "stdout",
     "output_type": "stream",
     "text": [
      "Keuntungan dari Geo Data 0: 166250.36568082406\n",
      "Keuntungan dari Geo Data 1: 124050.86696681511\n",
      "Keuntungan dari Geo Data 2: 170496.32928358982\n"
     ]
    }
   ],
   "source": [
    "predictions_geo_data_0 = model.predict(X_val)  \n",
    "predictions_geo_data_1 = model.predict(X_val)  \n",
    "predictions_geo_data_2 = model.predict(X_val)  \n",
    "\n",
    "def hitung_keuntungan(geo_data, predictions, jumlah_sumur_terpilih=200):\n",
    "    # Menyortir sumur berdasarkan prediksi tertinggi\n",
    "    sorted_sumur = geo_data.sort_values(by='product', ascending=False).head(jumlah_sumur_terpilih)\n",
    "    \n",
    "    # Menghitung total volume pemesanan dari sumur terpilih\n",
    "    total_volume_pemesanan = sorted_sumur['product'].sum()\n",
    "    \n",
    "    # Menghitung total pendapatan dari volume pemesanan\n",
    "    total_pendapatan = total_volume_pemesanan * pendapatan_per_barel\n",
    "    \n",
    "    # Menghitung total biaya pengembangan sumur\n",
    "    total_biaya = investasi_awal\n",
    "    \n",
    "    # Menghitung keuntungan\n",
    "    keuntungan = total_pendapatan - total_biaya\n",
    "    \n",
    "    return keuntungan\n",
    "\n",
    "# penggunaan fungsi untuk menghitung keuntungan dari 200 sumur terpilih di Geo Data 0\n",
    "keuntungan_geo_data_0 = hitung_keuntungan(geo_data_0, predictions_geo_data_0)\n",
    "print(\"Keuntungan dari Geo Data 0:\", keuntungan_geo_data_0)\n",
    "\n",
    "# penggunaan fungsi untuk menghitung keuntungan dari 200 sumur terpilih di Geo Data 1\n",
    "keuntungan_geo_data_1 = hitung_keuntungan(geo_data_1, predictions_geo_data_1)\n",
    "print(\"Keuntungan dari Geo Data 1:\", keuntungan_geo_data_1)\n",
    "\n",
    "# penggunaan fungsi untuk menghitung keuntungan dari 200 sumur terpilih di Geo Data 2\n",
    "keuntungan_geo_data_2 = hitung_keuntungan(geo_data_2, predictions_geo_data_2)\n",
    "print(\"Keuntungan dari Geo Data 2:\", keuntungan_geo_data_2)"
   ]
  },
  {
   "cell_type": "code",
   "execution_count": 11,
   "metadata": {},
   "outputs": [
    {
     "name": "stdout",
     "output_type": "stream",
     "text": [
      "Total Volume Pemesanan dari 200 Sumur Teratas di Geo Data 0: 36966.747929072015\n",
      "Total Volume Pemesanan dari 200 Sumur Teratas di Geo Data 1: 27589.081548181137\n",
      "Total Volume Pemesanan dari 200 Sumur Teratas di Geo Data 2: 37910.29539635329\n"
     ]
    }
   ],
   "source": [
    "# Mengambil 200 sumur teratas dari setiap wilayah\n",
    "top_200_geo_data_0 = geo_data_0.sort_values(by='product', ascending=False).head(200)\n",
    "top_200_geo_data_1 = geo_data_1.sort_values(by='product', ascending=False).head(200)\n",
    "top_200_geo_data_2 = geo_data_2.sort_values(by='product', ascending=False).head(200)\n",
    "\n",
    "# Menghitung total volume pemesanan yang diharapkan dari sumur-sumur teratas\n",
    "total_volume_geo_data_0 = top_200_geo_data_0['product'].sum()\n",
    "total_volume_geo_data_1 = top_200_geo_data_1['product'].sum()\n",
    "total_volume_geo_data_2 = top_200_geo_data_2['product'].sum()\n",
    "\n",
    "# Menampilkan rangkuman\n",
    "print(\"Total Volume Pemesanan dari 200 Sumur Teratas di Geo Data 0:\", total_volume_geo_data_0)\n",
    "print(\"Total Volume Pemesanan dari 200 Sumur Teratas di Geo Data 1:\", total_volume_geo_data_1)\n",
    "print(\"Total Volume Pemesanan dari 200 Sumur Teratas di Geo Data 2:\", total_volume_geo_data_2)"
   ]
  },
  {
   "cell_type": "markdown",
   "metadata": {},
   "source": [
    "Berdasarkan total volume pemesanan dari 200 sumur teratas di masing-masing wilayah, dapat disimpulkan bahwa:\n",
    "\n",
    "1. Total Volume Pemesanan dari 200 Sumur Teratas di Geo Data 0: 36,966.75 ribu barel\n",
    "2. otal Volume Pemesanan dari 200 Sumur Teratas di Geo Data 1: 27,589.08 ribu barel\n",
    "3. Total Volume Pemesanan dari 200 Sumur Teratas di Geo Data 2: 37,910.30 ribu barel\n",
    "\n",
    "Dari hasil di atas, wilayah yang paling cocok untuk pengembangan sumur minyak adalah Geo Data 2 karena memiliki total volume pemesanan yang paling tinggi di antara ketiga wilayah tersebut. Total volume pemesanan yang tinggi menandakan adanya potensi produksi minyak yang besar, yang dapat menghasilkan keuntungan yang lebih besar juga."
   ]
  },
  {
   "cell_type": "code",
   "execution_count": 12,
   "metadata": {},
   "outputs": [
    {
     "name": "stdout",
     "output_type": "stream",
     "text": [
      "Keuntungan dari Geo Data 2: 170496.32928358982\n"
     ]
    }
   ],
   "source": [
    "# Hitung keuntungan dari 200 sumur terpilih di Geo Data 2\n",
    "keuntungan_geo_data_2 = hitung_keuntungan(top_200_geo_data_2, predictions_geo_data_2)\n",
    "print(\"Keuntungan dari Geo Data 2:\", keuntungan_geo_data_2)"
   ]
  },
  {
   "cell_type": "markdown",
   "metadata": {},
   "source": [
    "Dengan demikian, Geo Data 2 direkomendasikan untuk pengembangan sumur minyak karena memiliki potensi volume pemesanan yang tinggi, yang kemudian dapat menghasilkan keuntungan yang signifikan."
   ]
  },
  {
   "cell_type": "code",
   "execution_count": 13,
   "metadata": {
    "scrolled": true
   },
   "outputs": [
    {
     "name": "stdout",
     "output_type": "stream",
     "text": [
      "Geo Data 0:\n",
      "Rata-rata Profit: 84329.47941728705\n",
      "Standar Deviasi Profit: 1204.9688078004338\n",
      "Interval Kepercayaan 95%: [81983.59477499 86664.44980245]\n",
      "\n",
      "Geo Data 1:\n",
      "Rata-rata Profit: 84270.89534088972\n",
      "Standar Deviasi Profit: 1172.3251437576534\n",
      "Interval Kepercayaan 95%: [81925.96955024 86458.0914883 ]\n",
      "\n",
      "Geo Data 2:\n",
      "Rata-rata Profit: 84308.13185272139\n",
      "Standar Deviasi Profit: 1194.3715806466523\n",
      "Interval Kepercayaan 95%: [81979.1875595 86632.8978147]\n"
     ]
    }
   ],
   "source": [
    "def bootstrapping_profit(predictions, jumlah_sumur_terpilih=200, jumlah_sampel=1000):\n",
    "    # Mengambil prediksi untuk 200 sumur teratas\n",
    "    top_200_predictions = predictions[:jumlah_sumur_terpilih]\n",
    "    \n",
    "    # Menghitung profit dari 200 sumur teratas\n",
    "    profit = top_200_predictions.sum() * pendapatan_per_barel - investasi_awal\n",
    "    \n",
    "    # Bootstrapping untuk menghitung distribusi profit\n",
    "    profits = []\n",
    "    for _ in range(jumlah_sampel):\n",
    "        # Mengambil sampel dengan pengembalian\n",
    "        sample = np.random.choice(top_200_predictions, size=jumlah_sumur_terpilih, replace=True)\n",
    "        # Menghitung profit dari sampel\n",
    "        sample_profit = sample.sum() * pendapatan_per_barel - investasi_awal\n",
    "        profits.append(sample_profit)\n",
    "    \n",
    "    # Menghitung statistik dari distribusi profit\n",
    "    mean_profit = np.mean(profits)\n",
    "    std_profit = np.std(profits)\n",
    "    confidence_interval = np.percentile(profits, [2.5, 97.5])\n",
    "    \n",
    "    return mean_profit, std_profit, confidence_interval\n",
    "\n",
    "# Bootstrapping untuk Geo Data 0\n",
    "mean_profit_geo_data_0, std_profit_geo_data_0, confidence_interval_geo_data_0 = bootstrapping_profit(predictions_geo_data_0)\n",
    "\n",
    "# Bootstrapping untuk Geo Data 1\n",
    "mean_profit_geo_data_1, std_profit_geo_data_1, confidence_interval_geo_data_1 = bootstrapping_profit(predictions_geo_data_1)\n",
    "\n",
    "# Bootstrapping untuk Geo Data 2\n",
    "mean_profit_geo_data_2, std_profit_geo_data_2, confidence_interval_geo_data_2 = bootstrapping_profit(predictions_geo_data_2)\n",
    "\n",
    "# Menampilkan hasil\n",
    "print(\"Geo Data 0:\")\n",
    "print(\"Rata-rata Profit:\", mean_profit_geo_data_0)\n",
    "print(\"Standar Deviasi Profit:\", std_profit_geo_data_0)\n",
    "print(\"Interval Kepercayaan 95%:\", confidence_interval_geo_data_0)\n",
    "\n",
    "print(\"\\nGeo Data 1:\")\n",
    "print(\"Rata-rata Profit:\", mean_profit_geo_data_1)\n",
    "print(\"Standar Deviasi Profit:\", std_profit_geo_data_1)\n",
    "print(\"Interval Kepercayaan 95%:\", confidence_interval_geo_data_1)\n",
    "\n",
    "print(\"\\nGeo Data 2:\")\n",
    "print(\"Rata-rata Profit:\", mean_profit_geo_data_2)\n",
    "print(\"Standar Deviasi Profit:\", std_profit_geo_data_2)\n",
    "print(\"Interval Kepercayaan 95%:\", confidence_interval_geo_data_2)"
   ]
  },
  {
   "cell_type": "code",
   "execution_count": 14,
   "metadata": {},
   "outputs": [],
   "source": [
    "def calculate_bootstrap_profit(predictions, n_samples=1000, n_wells=200):\n",
    "    profits = []\n",
    "    for _ in range(n_samples):\n",
    "        # Sampling dengan pengembalian dari prediksi\n",
    "        sampled_predictions = np.random.choice(predictions, size=n_wells, replace=True)\n",
    "        # Menghitung total pendapatan dari volume pemesanan\n",
    "        total_pendapatan = np.sum(sampled_predictions)\n",
    "        # Menghitung total biaya pengembangan sumur\n",
    "        total_biaya = investasi_awal\n",
    "        # Menghitung keuntungan\n",
    "        keuntungan = total_pendapatan - total_biaya\n",
    "        profits.append(keuntungan)\n",
    "    return profits\n",
    "\n",
    "# Bootstrapping untuk masing-masing wilayah\n",
    "profits_geo_data_0 = calculate_bootstrap_profit(predictions_geo_data_0)\n",
    "profits_geo_data_1 = calculate_bootstrap_profit(predictions_geo_data_1)\n",
    "profits_geo_data_2 = calculate_bootstrap_profit(predictions_geo_data_2)"
   ]
  },
  {
   "cell_type": "code",
   "execution_count": 15,
   "metadata": {},
   "outputs": [
    {
     "name": "stdout",
     "output_type": "stream",
     "text": [
      "Geo Data 0:\n",
      "Rata-rata Profit: 84329.47941728705\n",
      "Interval Kepercayaan 95%: [81983.59477499 86664.44980245]\n",
      "Risiko Kerugian: 0.0 %\n",
      "\n",
      "Geo Data 1:\n",
      "Rata-rata Profit: 84270.89534088972\n",
      "Interval Kepercayaan 95%: [81925.96955024 86458.0914883 ]\n",
      "Risiko Kerugian: 0.0 %\n",
      "\n",
      "Geo Data 2:\n",
      "Rata-rata Profit: 84308.13185272139\n",
      "Interval Kepercayaan 95%: [81979.1875595 86632.8978147]\n",
      "Risiko Kerugian: 0.0 %\n"
     ]
    }
   ],
   "source": [
    "def calculate_loss_risk(profits):\n",
    "    # Menghitung jumlah sampel yang menghasilkan profit negatif\n",
    "    negative_profits = np.array([profit for profit in profits if profit < 0])\n",
    "    num_negative_profits = len(negative_profits)\n",
    "    \n",
    "    # Menghitung risiko kerugian sebagai persentase\n",
    "    loss_risk = (num_negative_profits / len(profits)) * 100\n",
    "    \n",
    "    return loss_risk\n",
    "\n",
    "# Menghitung risiko kerugian dan statistik lainnya untuk masing-masing wilayah\n",
    "loss_risk_geo_data_0 = calculate_loss_risk(profits_geo_data_0)\n",
    "loss_risk_geo_data_1 = calculate_loss_risk(profits_geo_data_1)\n",
    "loss_risk_geo_data_2 = calculate_loss_risk(profits_geo_data_2)\n",
    "\n",
    "# Menampilkan hasil\n",
    "print(\"Geo Data 0:\")\n",
    "print(\"Rata-rata Profit:\", mean_profit_geo_data_0)\n",
    "print(\"Interval Kepercayaan 95%:\", confidence_interval_geo_data_0)\n",
    "print(\"Risiko Kerugian:\", loss_risk_geo_data_0, \"%\")\n",
    "\n",
    "print(\"\\nGeo Data 1:\")\n",
    "print(\"Rata-rata Profit:\", mean_profit_geo_data_1)\n",
    "print(\"Interval Kepercayaan 95%:\", confidence_interval_geo_data_1)\n",
    "print(\"Risiko Kerugian:\", loss_risk_geo_data_1, \"%\")\n",
    "\n",
    "print(\"\\nGeo Data 2:\")\n",
    "print(\"Rata-rata Profit:\", mean_profit_geo_data_2)\n",
    "print(\"Interval Kepercayaan 95%:\", confidence_interval_geo_data_2)\n",
    "print(\"Risiko Kerugian:\", loss_risk_geo_data_2, \"%\")"
   ]
  },
  {
   "cell_type": "markdown",
   "metadata": {},
   "source": [
    "Berdasarkan hasil yang diperoleh, kesimpulan yang dapat diambil adalah:\n",
    "\n",
    "- Ketiga wilayah memiliki rata-rata profit yang hampir sama. \n",
    "- Dengan interval kepercayaan 95% yang juga saling tumpang tindih.\n",
    "- Risiko kerugian untuk setiap wilayah adalah 0%, yang berarti tidak ada probabilitas keuntungan menjadi negatif.\n",
    "\n",
    "Dari kesimpulan ini, tidak ada perbedaan signifikan dalam rata-rata profit dan risiko kerugian antara ketiga wilayah. Oleh karena itu, tidak ada wilayah yang secara signifikan lebih baik atau lebih buruk untuk pengembangan sumur minyak daripada yang lain.\n",
    "\n",
    "Kesimpulan ini tidak sesuai dengan pilihan sebelumnya di poin 4.3, di mana kita merekomendasikan wilayah dengan keuntungan tertinggi. Ini menunjukkan bahwa keputusan awal didasarkan pada prediksi model dan keuntungan tanpa mempertimbangkan variasi dan risiko yang mungkin terjadi dalam praktiknya. Dalam situasi sebenarnya, akan lebih bijaksana untuk mempertimbangkan variasi dan risiko lebih lanjut sebelum membuat keputusan pengembangan."
   ]
  },
  {
   "cell_type": "markdown",
   "metadata": {},
   "source": [
    "# Kesimpulan umum :\n",
    "\n",
    "Dalam proyek ini, kita telah melakukan analisis dan pengembangan model untuk mengevaluasi potensi pengembangan sumur minyak di tiga wilayah yang berbeda. Langkah-langkah yang dilakukan meliputi:\n",
    "\n",
    "1. Eksplorasi data: Mengunduh, memuat, dan menjelajahi data untuk memahami karakteristiknya.\n",
    "2. Pembangunan model: Melatih model regresi linear untuk memprediksi volume pemesanan minyak dari fitur-fitur geologis yang tersedia.\n",
    "3. Evaluasi model: Mengukur kinerja model menggunakan metrik seperti RMSE dan menganalisis hasil prediksi untuk masing-masing wilayah.\n",
    "4. Perhitungan laba dan risiko: Menghitung keuntungan yang diharapkan dari pengembangan sumur minyak berdasarkan prediksi model, dan mengevaluasi risiko kerugian menggunakan teknik bootstrapping.\n",
    "\n",
    "Kesimpulan umum dari proyek ini adalah sebagai berikut:\n",
    "\n",
    "- Meskipun model regresi linear memberikan perkiraan volume pemesanan yang cukup baik, faktor-faktor lain seperti variasi alamiah dalam kualitas dan kuantitas minyak serta faktor eksternal seperti fluktuasi harga minyak juga perlu dipertimbangkan dalam pengambilan keputusan pengembangan.\n",
    "- Meskipun risiko kerugian dalam pengembangan sumur minyak diperkirakan rendah, tetapi perlu diingat bahwa ini hanya estimasi berdasarkan prediksi model. Faktor-faktor lain seperti ketidakpastian geologi, biaya produksi, dan perubahan regulasi juga dapat berdampak pada risiko sebenarnya.\n",
    "- Dalam pengambilan keputusan pengembangan, penting untuk melakukan analisis yang komprehensif dan mempertimbangkan semua faktor yang relevan, bukan hanya hasil dari model prediksi saja.\n",
    "\n",
    "Secara keseluruhan, proyek ini menyoroti pentingnya penggunaan analisis data dan pemodelan yang cermat dalam pengambilan keputusan bisnis, terutama dalam industri yang sangat bergantung pada faktor-faktor geologis dan ekonomi yang kompleks seperti industri perminyakan.\n"
   ]
  },
  {
   "cell_type": "code",
   "execution_count": null,
   "metadata": {},
   "outputs": [],
   "source": []
  }
 ],
 "metadata": {
  "kernelspec": {
   "display_name": "Python 3 (ipykernel)",
   "language": "python",
   "name": "python3"
  },
  "language_info": {
   "codemirror_mode": {
    "name": "ipython",
    "version": 3
   },
   "file_extension": ".py",
   "mimetype": "text/x-python",
   "name": "python",
   "nbconvert_exporter": "python",
   "pygments_lexer": "ipython3",
   "version": "3.9.19"
  },
  "toc": {
   "base_numbering": 1,
   "nav_menu": {},
   "number_sections": true,
   "sideBar": true,
   "skip_h1_title": true,
   "title_cell": "Table of Contents",
   "title_sidebar": "Contents",
   "toc_cell": false,
   "toc_position": {},
   "toc_section_display": true,
   "toc_window_display": false
  }
 },
 "nbformat": 4,
 "nbformat_minor": 2
}
